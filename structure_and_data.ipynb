{
  "nbformat": 4,
  "nbformat_minor": 0,
  "metadata": {
    "colab": {
      "provenance": [],
      "authorship_tag": "ABX9TyNTfjNvXIsAFSU/YBI/w90L",
      "include_colab_link": true
    },
    "kernelspec": {
      "name": "python3",
      "display_name": "Python 3"
    },
    "language_info": {
      "name": "python"
    }
  },
  "cells": [
    {
      "cell_type": "markdown",
      "metadata": {
        "id": "view-in-github",
        "colab_type": "text"
      },
      "source": [
        "<a href=\"https://colab.research.google.com/github/zahraraihanatul/Tugass/blob/main/structure_and_data.ipynb\" target=\"_parent\"><img src=\"https://colab.research.google.com/assets/colab-badge.svg\" alt=\"Open In Colab\"/></a>"
      ]
    },
    {
      "cell_type": "code",
      "execution_count": 1,
      "metadata": {
        "colab": {
          "base_uri": "https://localhost:8080/"
        },
        "id": "vKcTSm7YkVUK",
        "outputId": "8ba3950f-f2dd-4faf-d64a-013cd8b8671c"
      },
      "outputs": [
        {
          "output_type": "stream",
          "name": "stdout",
          "text": [
            "[1, 2, 3, 4, 3, 5, 6]\n",
            "[1, 2, 3, 4, 3, 5, 6, 7, 8, 9]\n",
            "[1, 2, 10, 3, 4, 3, 5, 6, 7, 8, 9]\n",
            "[1, 2, 10, 4, 3, 5, 6, 7, 8, 9]\n",
            "Popped element: 10\n",
            "[]\n",
            "Index of 3: 2\n",
            "Count of 3: 2\n",
            "[1, 2, 3, 3, 4, 5]\n",
            "[5, 4, 3, 3, 2, 1]\n",
            "[5, 4, 3, 3, 2, 1]\n"
          ]
        }
      ],
      "source": [
        "# Built-in Method of Lists\n",
        "\n",
        "# Initialize a sample list\n",
        "my_list = [1, 2, 3, 4, 3, 5]\n",
        "\n",
        "# append(x) - Adds an element to the end of the list\n",
        "my_list.append(6)\n",
        "print(my_list)  # Output: [1, 2, 3, 4, 3, 5, 6]\n",
        "\n",
        "# extend(iterable) - Extends the list with elements from another iterable\n",
        "my_list.extend([7, 8, 9])\n",
        "print(my_list)  # Output: [1, 2, 3, 4, 3, 5, 6, 7, 8, 9]\n",
        "\n",
        "# insert(i, x) - Inserts an element at a specified index\n",
        "my_list.insert(2, 10)\n",
        "print(my_list)  # Output: [1, 2, 10, 3, 4, 3, 5, 6, 7, 8, 9]\n",
        "\n",
        "# remove(x) - Removes the first occurrence of an element\n",
        "my_list.remove(3)\n",
        "print(my_list)  # Output: [1, 2, 10, 4, 3, 5, 6, 7, 8, 9]\n",
        "\n",
        "# pop([i]) - Removes and returns an element (default: last element)\n",
        "popped_element = my_list.pop(2)\n",
        "print(f\"Popped element: {popped_element}\")  # Output: Popped element: 10\n",
        "\n",
        "# clear() - Removes all elements from the list\n",
        "my_list.clear()\n",
        "print(my_list)  # Output: []\n",
        "\n",
        "# index(x[, start[, end]]) - Returns the index of the first occurrence of an element\n",
        "my_list = [1, 2, 3, 4, 3, 5]\n",
        "index = my_list.index(3)\n",
        "print(f\"Index of 3: {index}\")  # Output: Index of 3: 2\n",
        "\n",
        "# count(x) - Returns the number of occurrences of an element\n",
        "count = my_list.count(3)\n",
        "print(f\"Count of 3: {count}\")  # Output: Count of 3: 2\n",
        "\n",
        "# sort(key=None, reverse=False) - Sorts the list in ascending order\n",
        "my_list.sort()\n",
        "print(my_list)  # Output: [1, 2, 3, 3, 4, 5]\n",
        "\n",
        "# reverse() - Reverses the order of elements\n",
        "my_list.reverse()\n",
        "print(my_list)  # Output: [5, 4, 3, 3, 2, 1]\n",
        "\n",
        "# copy() - Creates a shallow copy of the list\n",
        "copy_of_list = my_list.copy()\n",
        "print(copy_of_list)  # Output: [5, 4, 3, 3, 2, 1]\n",
        "\n",
        "# len(list) - Returns the number of elements in the list\n",
        "length = len(my_list)"
      ]
    },
    {
      "cell_type": "code",
      "source": [
        "# Creating Python Lists\n",
        "\n",
        "list1=[] # creating an empty list\n",
        "list2=[1,2.4,'abc',(1,2),[6,78,9]] # creating a list of different values\n",
        "print(\"The type of\",list1,\"is:\",type(list1))\n",
        "print(\"The type of\",list2,\"is:\",type(list2))"
      ],
      "metadata": {
        "colab": {
          "base_uri": "https://localhost:8080/"
        },
        "id": "O5fFHqr7XemR",
        "outputId": "db8c3809-cbf0-4b47-8a0c-ceb5bc9633ae"
      },
      "execution_count": 2,
      "outputs": [
        {
          "output_type": "stream",
          "name": "stdout",
          "text": [
            "The type of [] is: <class 'list'>\n",
            "The type of [1, 2.4, 'abc', (1, 2), [6, 78, 9]] is: <class 'list'>\n"
          ]
        }
      ]
    },
    {
      "cell_type": "code",
      "source": [
        "# Accessing an element from the Python list\n",
        "\n",
        "\n",
        "list_1=[1,3,5.6,'a',\"PythonGeeks\",0.4]\n",
        "print(list_1[3]) # accessing the 4th element\n",
        "print(list_1) # accessing the whole list\n",
        "print(list_1[-2]) # printing the last 2nd element"
      ],
      "metadata": {
        "colab": {
          "base_uri": "https://localhost:8080/"
        },
        "id": "daH-V9OmZAgK",
        "outputId": "31685ea8-82c4-4a19-b8c4-d8aefd3fc9ae"
      },
      "execution_count": 3,
      "outputs": [
        {
          "output_type": "stream",
          "name": "stdout",
          "text": [
            "a\n",
            "[1, 3, 5.6, 'a', 'PythonGeeks', 0.4]\n",
            "PythonGeeks\n"
          ]
        }
      ]
    },
    {
      "cell_type": "code",
      "source": [
        "# Slicing the list in Python\n",
        "\n",
        "\n",
        "list_1=[1,3,5.6,'a',\"PythonGeeks\",0.4]\n",
        "print(\"list_1[2:5] =\",list_1[2:5]) # slicing 3rd to 5th element\n",
        "print(\"list_1[:] =\",list_1[:]) # getting entire list\n",
        "print(\"list_1[-5:-2] =\",list_1[-5:-2]) # slicing last 5th to 3rd element\n",
        "print(\"list_1[3:] =\",list_1[3:]) # slicing all elements after 3rd one\n",
        "print(\"list_1[-3:] =\",list_1[-3:]) # slicing all elements after last 3rd one\n",
        "print(\"list_1[:2] =\",list_1[:2]) # slicing all elements till 2nd one\n",
        "print(\"list_1[:-2] =\",list_1[:-2])# slicing all elements till last 2nd one"
      ],
      "metadata": {
        "colab": {
          "base_uri": "https://localhost:8080/"
        },
        "id": "oo8X5uVxZGuU",
        "outputId": "a81c6bd3-a2e7-4cac-be86-691425d78cf4"
      },
      "execution_count": 4,
      "outputs": [
        {
          "output_type": "stream",
          "name": "stdout",
          "text": [
            "list_1[2:5] = [5.6, 'a', 'PythonGeeks']\n",
            "list_1[:] = [1, 3, 5.6, 'a', 'PythonGeeks', 0.4]\n",
            "list_1[-5:-2] = [3, 5.6, 'a']\n",
            "list_1[3:] = ['a', 'PythonGeeks', 0.4]\n",
            "list_1[-3:] = ['a', 'PythonGeeks', 0.4]\n",
            "list_1[:2] = [1, 3]\n",
            "list_1[:-2] = [1, 3, 5.6, 'a']\n"
          ]
        }
      ]
    },
    {
      "cell_type": "code",
      "source": [
        "# Modifying and deleting from Python List\n",
        "\n",
        "\n",
        "# Create a list\n",
        "my_list = [1, 2, 3, 4, 5]\n",
        "\n",
        "# Modify an element using indexing\n",
        "my_list[2] = 10\n",
        "print(\"After modifying using indexing:\", my_list)  # Output: [1, 2, 10, 4, 5]\n",
        "\n",
        "# Modify a range of elements using slicing\n",
        "my_list[1:4] = [20, 30, 40]\n",
        "print(\"After modifying using slicing:\", my_list)  # Output: [1, 20, 30, 40, 5]\n",
        "\n",
        "# Delete an element using indexing\n",
        "del my_list[2]\n",
        "print(\"After deleting using indexing:\", my_list)  # Output: [1, 20, 40, 5]\n",
        "\n",
        "# Delete a range of elements using slicing\n",
        "my_list[1:4] = []\n",
        "print(\"After deleting using slicing:\", my_list)  # Output: [1, 5]\n",
        "\n",
        "# Delete the entire list\n",
        "del my_list\n",
        "# Now, my_list is no longer defined"
      ],
      "metadata": {
        "colab": {
          "base_uri": "https://localhost:8080/"
        },
        "id": "9qATj-NlZIlF",
        "outputId": "4e2d1cba-dd3c-4880-d1da-012944a08254"
      },
      "execution_count": 5,
      "outputs": [
        {
          "output_type": "stream",
          "name": "stdout",
          "text": [
            "After modifying using indexing: [1, 2, 10, 4, 5]\n",
            "After modifying using slicing: [1, 20, 30, 40, 5]\n",
            "After deleting using indexing: [1, 20, 40, 5]\n",
            "After deleting using slicing: [1]\n"
          ]
        }
      ]
    },
    {
      "cell_type": "code",
      "source": [
        "# Common Ways to Loop Through a List\n",
        "\n",
        "\n",
        "# Create a sample list\n",
        "my_list = [1, 2, 3, 4, 5]\n",
        "\n",
        "# Method 1: Loop through the list and print each element\n",
        "for item in my_list:\n",
        "    print(item)\n",
        "\n",
        "# Method 2: Loop through the list with index using enumerate()\n",
        "for index, item in enumerate(my_list):\n",
        "    print(f\"Index {index}: {item}\")\n",
        "\n",
        "# Method 3: Loop through the list in reverse order\n",
        "for item in reversed(my_list):\n",
        "    print(item)\n"
      ],
      "metadata": {
        "colab": {
          "base_uri": "https://localhost:8080/"
        },
        "id": "KX4TKv0lZ3mc",
        "outputId": "b8d78c49-174f-4c96-f270-5c06ac6c8d22"
      },
      "execution_count": 6,
      "outputs": [
        {
          "output_type": "stream",
          "name": "stdout",
          "text": [
            "1\n",
            "2\n",
            "3\n",
            "4\n",
            "5\n",
            "Index 0: 1\n",
            "Index 1: 2\n",
            "Index 2: 3\n",
            "Index 3: 4\n",
            "Index 4: 5\n",
            "5\n",
            "4\n",
            "3\n",
            "2\n",
            "1\n"
          ]
        }
      ]
    },
    {
      "cell_type": "code",
      "source": [
        "# List Comprehension in Python\n",
        "\n",
        "# Sample 1:\n",
        "list1=[1,-2,3,-4,5]\n",
        "list2=[x**2 for x in list1]\n",
        "print(list2)\n",
        "\n",
        "# Sample 2 (with condition):\n",
        "fruits = [\"apple\", \"banana\", \"cherry\", \"kiwi\", \"mango\"]\n",
        "newlist = [x if x != \"banana\" else \"orange\" for x in fruits]\n",
        "print(newlist)"
      ],
      "metadata": {
        "colab": {
          "base_uri": "https://localhost:8080/"
        },
        "id": "E5RIEYdrZ8UK",
        "outputId": "a5d2a95d-5a7d-488a-e8ed-362de367b7f0"
      },
      "execution_count": 7,
      "outputs": [
        {
          "output_type": "stream",
          "name": "stdout",
          "text": [
            "[1, 4, 9, 16, 25]\n",
            "['apple', 'orange', 'cherry', 'kiwi', 'mango']\n"
          ]
        }
      ]
    },
    {
      "cell_type": "code",
      "source": [],
      "metadata": {
        "id": "Rsxg9L1haTIF"
      },
      "execution_count": null,
      "outputs": []
    },
    {
      "cell_type": "code",
      "source": [
        "# Unpacking the List\n",
        "\n",
        "\n",
        "emp_info=['Python',5,'Developer']\n",
        "\n",
        "#List unpacking\n",
        "skill,exp,role=emp_info\n",
        "print (skill)\t#Output:Python\n",
        "print (exp)\t#Output:5\n",
        "print (role)\t#Output:Developer\n"
      ],
      "metadata": {
        "colab": {
          "base_uri": "https://localhost:8080/"
        },
        "id": "7GgRkGQzmRmL",
        "outputId": "7a07a6fc-bdab-4aa5-86e9-5f80771330f6"
      },
      "execution_count": null,
      "outputs": [
        {
          "output_type": "stream",
          "name": "stdout",
          "text": [
            "Python\n",
            "5\n",
            "Developer\n"
          ]
        }
      ]
    },
    {
      "cell_type": "code",
      "source": [],
      "metadata": {
        "id": "gfumBXhaaYMv"
      },
      "execution_count": null,
      "outputs": []
    },
    {
      "cell_type": "code",
      "source": [
        "# Using Lists as Stacks\n",
        "\n",
        "# Initialize an empty stack to represent the browser history\n",
        "browser_history = []\n",
        "\n",
        "# Simulate user browsing by pushing visited pages onto the stack\n",
        "browser_history.append(\"Homepage\")\n",
        "browser_history.append(\"About Us\")\n",
        "browser_history.append(\"Products\")\n",
        "browser_history.append(\"Contact Us\")\n",
        "\n",
        "# User clicks the back button\n",
        "if len(browser_history) > 0:\n",
        "    current_page = browser_history.pop()\n",
        "    print(\"User clicked the back button. Navigating to:\", current_page)\n",
        "\n",
        "# User continues browsing and adds more pages to the history\n",
        "browser_history.append(\"FAQs\")\n",
        "browser_history.append(\"Blog\")\n",
        "\n",
        "# User clicks the back button again\n",
        "if len(browser_history) > 0:\n",
        "    current_page = browser_history.pop()\n",
        "    print(\"User clicked the back button. Navigating to:\", current_page)\n"
      ],
      "metadata": {
        "colab": {
          "base_uri": "https://localhost:8080/"
        },
        "id": "TFwgult1mVYo",
        "outputId": "8427b4d7-0dda-42d7-fb55-4d5bc2655a13"
      },
      "execution_count": null,
      "outputs": [
        {
          "output_type": "stream",
          "name": "stdout",
          "text": [
            "User clicked the back button. Navigating to: Contact Us\n",
            "User clicked the back button. Navigating to: Blog\n"
          ]
        }
      ]
    },
    {
      "cell_type": "code",
      "source": [],
      "metadata": {
        "id": "xaEXTfZMaZq5"
      },
      "execution_count": null,
      "outputs": []
    },
    {
      "cell_type": "code",
      "source": [
        "# Using Lists as Queue\n",
        "\n",
        "queue = ['Person 1','Person 2']\n",
        "\n",
        "# Adding elements to the queue\n",
        "queue.append('Person 3')\n",
        "\n",
        "print(\"\\nQueue before:\")\n",
        "print(queue)\n",
        "\n",
        "# Removing elements from the queue\n",
        "print(\"\\nElements dequeued from queue : \", queue.pop(0))\n",
        "\n",
        "print(\"\\nQueue after:\")\n",
        "print(queue)\n"
      ],
      "metadata": {
        "colab": {
          "base_uri": "https://localhost:8080/"
        },
        "id": "03VhosICmpIm",
        "outputId": "d8d7cb82-8c91-43ca-8fe2-11591d2c4017"
      },
      "execution_count": null,
      "outputs": [
        {
          "output_type": "stream",
          "name": "stdout",
          "text": [
            "\n",
            "Queue before:\n",
            "['Person 1', 'Person 2', 'Person 3']\n",
            "\n",
            "Elements dequeued from queue :  Person 1\n",
            "\n",
            "Queue after:\n",
            "['Person 2', 'Person 3']\n"
          ]
        }
      ]
    },
    {
      "cell_type": "code",
      "source": [
        "# Built-in Methods of Tuples\n",
        "\n",
        "tup=(9,6,'g','Python',7.4)\n",
        "print(len(tup))\n",
        "print(tup.index('g'))\n",
        "\n",
        "print(tup.count('a'))\n",
        "\n"
      ],
      "metadata": {
        "colab": {
          "base_uri": "https://localhost:8080/"
        },
        "id": "93L2OG-Poon2",
        "outputId": "f226e708-2fcd-428a-9997-d7f6b66ae915"
      },
      "execution_count": null,
      "outputs": [
        {
          "output_type": "stream",
          "name": "stdout",
          "text": [
            "5\n",
            "2\n",
            "0\n"
          ]
        }
      ]
    },
    {
      "cell_type": "code",
      "source": [
        "# Creating Tuples\n",
        "\n",
        "# Create a tuple using round brackets\n",
        "t1 = (1, 2, 3, 4)\n",
        "\n",
        "# Create a tuple from a list the tuple() constructor\n",
        "t2 = tuple([1, 2, 3, 4, 5])\n",
        "\n",
        "# Create a tuple using the tuple() constructor\n",
        "t3 = tuple([1, 2, 3, 4, 5, 6])\n",
        "\n",
        "# Print out tuples\n",
        "print(f\"Tuple t1: {t1}\")\n",
        "print(f\"Tuple t2: {t2}\")\n",
        "print(f\"Tuple t3: {t3}\")\n"
      ],
      "metadata": {
        "colab": {
          "base_uri": "https://localhost:8080/"
        },
        "id": "arJVl6KJqPaI",
        "outputId": "a17cc568-6c4a-4068-fa2c-884a8c298b3b"
      },
      "execution_count": null,
      "outputs": [
        {
          "output_type": "stream",
          "name": "stdout",
          "text": [
            "Tuple t1: (1, 2, 3, 4)\n",
            "Tuple t2: (1, 2, 3, 4, 5)\n",
            "Tuple t3: (1, 2, 3, 4, 5, 6)\n"
          ]
        }
      ]
    },
    {
      "cell_type": "code",
      "source": [
        "# Accessing Values in Tuples\n",
        "\n",
        "tup1 = ('physics', 'chemistry', 1997, 2000);\n",
        "tup2 = (1, 2, 3, 4, 5, 6, 7 );\n",
        "print (\"tup1[0]: \", tup1[0])\n",
        "print (\"tup2[1:5]: \", tup2[1:5])\n"
      ],
      "metadata": {
        "colab": {
          "base_uri": "https://localhost:8080/"
        },
        "id": "jxndlNC9qllP",
        "outputId": "c9805e92-1c18-4283-94c8-88208434aa50"
      },
      "execution_count": null,
      "outputs": [
        {
          "output_type": "stream",
          "name": "stdout",
          "text": [
            "tup1[0]:  physics\n",
            "tup2[1:5]:  (2, 3, 4, 5)\n"
          ]
        }
      ]
    },
    {
      "cell_type": "code",
      "source": [
        "# Accessing Values in Tuples\n",
        "\n",
        "tup1 = ('physics', 'chemistry', 1997, 2000);\n",
        "tup2 = (1, 2, 3, 4, 5, 6, 7 );\n",
        "print (\"tup1[0]: \", tup1[0])\n",
        "print (\"tup2[1:5]: \", tup2[1:5])\n"
      ],
      "metadata": {
        "colab": {
          "base_uri": "https://localhost:8080/"
        },
        "outputId": "c9805e92-1c18-4283-94c8-88208434aa50",
        "id": "uKnUzcGLawt2"
      },
      "execution_count": null,
      "outputs": [
        {
          "output_type": "stream",
          "name": "stdout",
          "text": [
            "tup1[0]:  physics\n",
            "tup2[1:5]:  (2, 3, 4, 5)\n"
          ]
        }
      ]
    },
    {
      "cell_type": "code",
      "source": [
        "# Updating Tuples\n",
        "\n",
        "tup1 = (12, 34.56);\n",
        "tup2 = ('abc', 'xyz');\n",
        "\n",
        "# Following action is NOT VALID for tuples\n",
        "# tup1[0] = 100;\n",
        "\n",
        "# So let's create a new tuple as follows\n",
        "tup3 = tup1 + tup2;\n",
        "print (tup3);\n"
      ],
      "metadata": {
        "colab": {
          "base_uri": "https://localhost:8080/"
        },
        "id": "b1HndT8PqtDq",
        "outputId": "258c324f-9e7d-4056-8141-e7bb18e43d0f"
      },
      "execution_count": null,
      "outputs": [
        {
          "output_type": "stream",
          "name": "stdout",
          "text": [
            "(12, 34.56, 'abc', 'xyz')\n"
          ]
        }
      ]
    },
    {
      "cell_type": "code",
      "source": [
        "# Delete Tuple Elements\n",
        "\n",
        "tup = ('physics', 'chemistry', 1997, 2000);\n",
        "print (tup);\n",
        "del tup;\n",
        "print (\"After deleting tup : \");\n",
        "print (tup);\t# an exception raised, because after del tup tuple does not exist anymore"
      ],
      "metadata": {
        "colab": {
          "base_uri": "https://localhost:8080/",
          "height": 245
        },
        "id": "Bd7t8JGpq0sf",
        "outputId": "ebc9ffe0-6327-4889-cd94-afcd95c5870e"
      },
      "execution_count": null,
      "outputs": [
        {
          "output_type": "stream",
          "name": "stdout",
          "text": [
            "('physics', 'chemistry', 1997, 2000)\n",
            "After deleting tup : \n"
          ]
        },
        {
          "output_type": "error",
          "ename": "NameError",
          "evalue": "ignored",
          "traceback": [
            "\u001b[0;31m---------------------------------------------------------------------------\u001b[0m",
            "\u001b[0;31mNameError\u001b[0m                                 Traceback (most recent call last)",
            "\u001b[0;32m<ipython-input-20-a670fc591db0>\u001b[0m in \u001b[0;36m<cell line: 7>\u001b[0;34m()\u001b[0m\n\u001b[1;32m      5\u001b[0m \u001b[0;32mdel\u001b[0m \u001b[0mtup\u001b[0m\u001b[0;34m;\u001b[0m\u001b[0;34m\u001b[0m\u001b[0;34m\u001b[0m\u001b[0m\n\u001b[1;32m      6\u001b[0m \u001b[0mprint\u001b[0m \u001b[0;34m(\u001b[0m\u001b[0;34m\"After deleting tup : \"\u001b[0m\u001b[0;34m)\u001b[0m\u001b[0;34m;\u001b[0m\u001b[0;34m\u001b[0m\u001b[0;34m\u001b[0m\u001b[0m\n\u001b[0;32m----> 7\u001b[0;31m \u001b[0mprint\u001b[0m \u001b[0;34m(\u001b[0m\u001b[0mtup\u001b[0m\u001b[0;34m)\u001b[0m\u001b[0;34m;\u001b[0m    \u001b[0;31m# an exception raised, because after del tup tuple does not exist anymore\u001b[0m\u001b[0;34m\u001b[0m\u001b[0;34m\u001b[0m\u001b[0m\n\u001b[0m",
            "\u001b[0;31mNameError\u001b[0m: name 'tup' is not defined"
          ]
        }
      ]
    },
    {
      "cell_type": "code",
      "source": [
        "# Changing Python tuple value by using list()\n",
        "\n",
        "tup=(1,2,3,4,5)\n",
        "\n",
        "list1=list(tup)\n",
        "list1[4]=6\n",
        "\n",
        "tup=tuple(list1)\n",
        "tup\n"
      ],
      "metadata": {
        "colab": {
          "base_uri": "https://localhost:8080/"
        },
        "id": "d-7ohgMXrh5i",
        "outputId": "961832f9-2320-48f5-a1bd-e4ce4ae99473"
      },
      "execution_count": null,
      "outputs": [
        {
          "output_type": "execute_result",
          "data": {
            "text/plain": [
              "(1, 2, 3, 4, 6)"
            ]
          },
          "metadata": {},
          "execution_count": 21
        }
      ]
    },
    {
      "cell_type": "code",
      "source": [
        "# Tuple Packing and Unpacking\n",
        "\n",
        "tup=1,2,3 #packing\n",
        "print(\"The type of \",tup,\"is:\",type(tup))\n",
        "\n",
        "a,b,c=tup #unpacking\n",
        "print(a)\n",
        "print(b)\n",
        "print(c)\n"
      ],
      "metadata": {
        "colab": {
          "base_uri": "https://localhost:8080/"
        },
        "id": "CGCr44Elrn1S",
        "outputId": "c16fd914-f57c-49f1-c341-2780d3dedbc0"
      },
      "execution_count": null,
      "outputs": [
        {
          "output_type": "stream",
          "name": "stdout",
          "text": [
            "The type of  (1, 2, 3) is: <class 'tuple'>\n",
            "1\n",
            "2\n",
            "3\n"
          ]
        }
      ]
    },
    {
      "cell_type": "code",
      "source": [
        "print (\"dict['Age']: \", dict['Age'])\n",
        "# Built-in Methods of Dictionaries\n",
        "\n",
        "dict1={1:'a',2:'e',3:'i',4:'o',5:'u'}\n",
        "print(dict1.get(4))\n",
        "\n",
        "print(dict1.keys())\n",
        "\n",
        "print(dict1.values())\n",
        "\n",
        "print(dict1.items())\n",
        "\n",
        "var1=dict1.pop(2)\n",
        "print(\"The value of var1 is:\",var1)\n",
        "\n",
        "var2=dict1.popitem()\n",
        "print(\"The value of var2 is:\",var2)\n",
        "\n",
        "dict1.clear()\n",
        "dict1\n"
      ],
      "metadata": {
        "colab": {
          "base_uri": "https://localhost:8080/"
        },
        "id": "kKV770uSrwZl",
        "outputId": "9e890c75-62de-4d32-d2e9-b14eb3736254"
      },
      "execution_count": null,
      "outputs": [
        {
          "output_type": "stream",
          "name": "stdout",
          "text": [
            "o\n",
            "dict_keys([1, 2, 3, 4, 5])\n",
            "dict_values(['a', 'e', 'i', 'o', 'u'])\n",
            "dict_items([(1, 'a'), (2, 'e'), (3, 'i'), (4, 'o'), (5, 'u')])\n",
            "The value of var1 is: e\n",
            "The value of var2 is: (5, 'u')\n"
          ]
        },
        {
          "output_type": "execute_result",
          "data": {
            "text/plain": [
              "{}"
            ]
          },
          "metadata": {},
          "execution_count": 23
        }
      ]
    },
    {
      "cell_type": "code",
      "source": [
        "# Updating Dictionary\n",
        "\n",
        "\n",
        "dict = {'Name': 'Zahra', 'Age': 7, 'Class': 'First'}\n",
        "dict['Age'] = 8; # update existing entry\n",
        "dict['School'] = \"DPS School\"; # Add new entry\n",
        "\n",
        "print (\"dict['Age']: \", dict['Age'])\n",
        "print (\"dict['School']: \", dict['School'])\n"
      ],
      "metadata": {
        "colab": {
          "base_uri": "https://localhost:8080/"
        },
        "id": "ZoDCraetsU1w",
        "outputId": "01a5cab5-d312-4112-87f9-62307a216eb6"
      },
      "execution_count": null,
      "outputs": [
        {
          "output_type": "stream",
          "name": "stdout",
          "text": [
            "dict['Age']:  8\n",
            "dict['School']:  DPS School\n"
          ]
        }
      ]
    },
    {
      "cell_type": "code",
      "source": [
        "# Common Ways to Loop through a Dictionary\n",
        "\n",
        "# Creating a sample dictionary\n",
        "my_dict = {\"name\": \"Alice\", \"age\": 25, \"city\": \"New York\"}\n",
        "\n",
        "# Method 1: Loop through keys and access values\n",
        "for key in my_dict:\n",
        "    print(key, \"->\", my_dict[key])\n",
        "\n",
        "# Method 2: Loop through keys and values using .items()\n",
        "for key, value in my_dict.items():\n",
        "    print(key, \"->\", value)\n",
        "\n",
        "# Method 3: Loop through keys using .keys() (less common)\n",
        "for key in my_dict.keys():\n",
        "    print(key, \"->\", my_dict[key])\n",
        "\n",
        "# Method 4: Loop through values using .values()\n",
        "for value in my_dict.values():\n",
        "    print(value)\n"
      ],
      "metadata": {
        "colab": {
          "base_uri": "https://localhost:8080/"
        },
        "id": "Zzj2KL6kszLm",
        "outputId": "78273b3d-f6e9-45de-a278-d689e114a7e3"
      },
      "execution_count": null,
      "outputs": [
        {
          "output_type": "stream",
          "name": "stdout",
          "text": [
            "name -> Alice\n",
            "age -> 25\n",
            "city -> New York\n",
            "name -> Alice\n",
            "age -> 25\n",
            "city -> New York\n",
            "name -> Alice\n",
            "age -> 25\n",
            "city -> New York\n",
            "Alice\n",
            "25\n",
            "New York\n"
          ]
        }
      ]
    },
    {
      "cell_type": "code",
      "source": [
        "# Properties of Dictionary Keys\n",
        "\n",
        "dict = {'Name': 'Zahra', 'Age': 7, 'Name': 'Manni'}\n",
        "print (\"dict['Name']: \", dict['Name'])\t# dict['Name']:  Manni\n"
      ],
      "metadata": {
        "colab": {
          "base_uri": "https://localhost:8080/"
        },
        "id": "9qHde9xQteLf",
        "outputId": "9470061f-346d-473e-d49b-e5f58e503593"
      },
      "execution_count": null,
      "outputs": [
        {
          "output_type": "stream",
          "name": "stdout",
          "text": [
            "dict['Name']:  Manni\n"
          ]
        }
      ]
    },
    {
      "cell_type": "code",
      "source": [
        "# Creating a Set\n",
        "\n",
        "Days=set([\"Mon\",\"Tue\",\"Wed\",\"Thu\",\"Fri\",\"Sat\",\"Sun\"])\n",
        "Months={\"Jan\",\"Feb\",\"Mar\"}\n",
        "Dates={21,22,17}\n",
        "print(Days)\n",
        "print(Months)\n",
        "print(Dates)\n"
      ],
      "metadata": {
        "colab": {
          "base_uri": "https://localhost:8080/"
        },
        "id": "3dnH7qwMtnaU",
        "outputId": "679b9e93-1c32-493c-8e18-67d0b6a70d5a"
      },
      "execution_count": null,
      "outputs": [
        {
          "output_type": "stream",
          "name": "stdout",
          "text": [
            "{'Tue', 'Fri', 'Mon', 'Wed', 'Sun', 'Sat', 'Thu'}\n",
            "{'Mar', 'Jan', 'Feb'}\n",
            "{17, 21, 22}\n"
          ]
        }
      ]
    },
    {
      "cell_type": "code",
      "source": [
        "# Accessing Values in a Set\n",
        "\n",
        "Days=set([\"Mon\",\"Tue\",\"Wed\",\"Thu\",\"Fri\",\"Sat\",\"Sun\"])\n",
        "\n",
        "for d in Days:\n",
        "   print(d)\n"
      ],
      "metadata": {
        "colab": {
          "base_uri": "https://localhost:8080/"
        },
        "id": "YDmD_qwAtxyc",
        "outputId": "80a90cf8-4df5-47f1-8708-16a6e4b266ad"
      },
      "execution_count": null,
      "outputs": [
        {
          "output_type": "stream",
          "name": "stdout",
          "text": [
            "Tue\n",
            "Fri\n",
            "Mon\n",
            "Wed\n",
            "Sun\n",
            "Sat\n",
            "Thu\n"
          ]
        }
      ]
    },
    {
      "cell_type": "code",
      "source": [
        "# Adding & Removing Items to a Set\n",
        "\n",
        "Days=set([\"Mon\",\"Tue\",\"Wed\",\"Thu\",\"Fri\",\"Sat\"])\n",
        "\n",
        "Days.add(\"Sun\")\n",
        "print(Days)\n"
      ],
      "metadata": {
        "colab": {
          "base_uri": "https://localhost:8080/"
        },
        "id": "WERs3aYRt3eV",
        "outputId": "9f03368b-24c0-4cd2-ad56-19ad8403467a"
      },
      "execution_count": null,
      "outputs": [
        {
          "output_type": "stream",
          "name": "stdout",
          "text": [
            "{'Tue', 'Fri', 'Mon', 'Wed', 'Sun', 'Sat', 'Thu'}\n"
          ]
        }
      ]
    },
    {
      "cell_type": "code",
      "source": [
        "# Union, Intersection, and Difference of Sets\n",
        "\n",
        "DaysA = set([\"Mon\",\"Tue\",\"Wed\"])\n",
        "DaysB = set([\"Wed\",\"Thu\",\"Fri\",\"Sat\",\"Sun\"])\n",
        "print(DaysA|DaysB)\t\t# equals with print(DaysA.union(DaysB))\n",
        "print(DaysA & DaysB)\t# equals with print(DaysA.intersection(DaysB))\n",
        "print(DaysA - DaysB)\t\t# equals with print(DaysA.difference(DaysB))\n"
      ],
      "metadata": {
        "colab": {
          "base_uri": "https://localhost:8080/"
        },
        "id": "cTdMH3DAuCn0",
        "outputId": "8bf6b36f-2c08-496a-f876-c628c30bdccc"
      },
      "execution_count": null,
      "outputs": [
        {
          "output_type": "stream",
          "name": "stdout",
          "text": [
            "{'Tue', 'Fri', 'Mon', 'Wed', 'Sun', 'Sat', 'Thu'}\n",
            "{'Wed'}\n",
            "{'Tue', 'Mon'}\n"
          ]
        }
      ]
    },
    {
      "cell_type": "code",
      "source": [
        "# Using List of Tuples\n",
        "\n",
        "employee_list = [(12345, \"John\", \"Kitchen\"), (12458, \"Paul\", \"House Floor\")]\n",
        "\n",
        "def get_employee(id):\n",
        "    for employee in employee_list:\n",
        "        if employee[0] == id:\n",
        "            return {\"id\": employee[0], \"name\": employee[1], \"department\": employee[2]}\n",
        "\n",
        "print(get_employee(12458))\n"
      ],
      "metadata": {
        "colab": {
          "base_uri": "https://localhost:8080/"
        },
        "id": "YnBN5wpKuMNT",
        "outputId": "dbce04a8-819a-4246-828a-aa93b8eb70f6"
      },
      "execution_count": null,
      "outputs": [
        {
          "output_type": "stream",
          "name": "stdout",
          "text": [
            "{'id': 12458, 'name': 'Paul', 'department': 'House Floor'}\n"
          ]
        }
      ]
    },
    {
      "cell_type": "code",
      "source": [
        "# Using Dictionary\n",
        "\n",
        "employee_dict = {\n",
        "    12345: {\n",
        "        \"id\": \"12345\",\n",
        "        \"name\": \"John\",\n",
        "        \"department\": \"Kitchen\"\n",
        "    },\n",
        "    12458: {\n",
        "        \"id\": \"12458\",\n",
        "        \"name\": \"Paul\",\n",
        "        \"department\": \"House Floor\"\n",
        "    }\n",
        "}\n",
        "\n",
        "def get_employee_from_dict(id):\n",
        "    return employee_dict[id];\n",
        "\n",
        "\n",
        "print(get_employee_from_dict(12458));\n"
      ],
      "metadata": {
        "colab": {
          "base_uri": "https://localhost:8080/"
        },
        "id": "Vo9d5sT7uR8c",
        "outputId": "64bb3954-99ef-4242-bf55-ae048585e161"
      },
      "execution_count": null,
      "outputs": [
        {
          "output_type": "stream",
          "name": "stdout",
          "text": [
            "{'id': '12458', 'name': 'Paul', 'department': 'House Floor'}\n"
          ]
        }
      ]
    }
  ]
}