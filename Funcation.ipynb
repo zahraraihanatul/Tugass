{
  "nbformat": 4,
  "nbformat_minor": 0,
  "metadata": {
    "colab": {
      "provenance": [],
      "authorship_tag": "ABX9TyOVovhsKIaF+YNxi0Ti0mzJ",
      "include_colab_link": true
    },
    "kernelspec": {
      "name": "python3",
      "display_name": "Python 3"
    },
    "language_info": {
      "name": "python"
    }
  },
  "cells": [
    {
      "cell_type": "markdown",
      "metadata": {
        "id": "view-in-github",
        "colab_type": "text"
      },
      "source": [
        "<a href=\"https://colab.research.google.com/github/zahraraihanatul/Tugass/blob/main/Funcation.ipynb\" target=\"_parent\"><img src=\"https://colab.research.google.com/assets/colab-badge.svg\" alt=\"Open In Colab\"/></a>"
      ]
    },
    {
      "cell_type": "code",
      "execution_count": 1,
      "metadata": {
        "colab": {
          "base_uri": "https://localhost:8080/"
        },
        "id": "H11ho06c9I3t",
        "outputId": "a38efa1c-760b-418b-8b79-4a4f2e7e6a94"
      },
      "outputs": [
        {
          "output_type": "stream",
          "name": "stdout",
          "text": [
            "IPB\n"
          ]
        }
      ],
      "source": [
        "# define function\n",
        "def printIPB():\n",
        "    print(\"IPB\")\n",
        "\n",
        "# call function\n",
        "printIPB()"
      ]
    },
    {
      "cell_type": "code",
      "source": [
        "# Here num1, num2 are parameters\n",
        "def printSum(num1, num2):\n",
        "    print(num1 + num2)\n",
        "\n",
        "# Here 5, 6 are arguments\n",
        "printSum(5, 6)"
      ],
      "metadata": {
        "colab": {
          "base_uri": "https://localhost:8080/"
        },
        "id": "UJcxutXr-EDR",
        "outputId": "f0f047f5-c5f0-4f41-d7e1-48c2cadff519"
      },
      "execution_count": 2,
      "outputs": [
        {
          "output_type": "stream",
          "name": "stdout",
          "text": [
            "11\n"
          ]
        }
      ]
    },
    {
      "cell_type": "code",
      "source": [
        "def greet(name, greeting):\n",
        "    print(f\"{greeting}, {name}!\")\n",
        "\n",
        "greet(\"Zahra\", \"Hello\")"
      ],
      "metadata": {
        "colab": {
          "base_uri": "https://localhost:8080/"
        },
        "id": "zttbeVsg-FzO",
        "outputId": "704cad2e-d168-4115-e594-3d7e42238e11"
      },
      "execution_count": 7,
      "outputs": [
        {
          "output_type": "stream",
          "name": "stdout",
          "text": [
            "Hello, Zahra!\n"
          ]
        }
      ]
    },
    {
      "cell_type": "code",
      "source": [
        "def greet(name, greeting):\n",
        "    print(f\"{greeting}, {name}!\")\n",
        "\n",
        "greet(greeting=\"Selamat pagi\", name=\"Zahra\")\n"
      ],
      "metadata": {
        "colab": {
          "base_uri": "https://localhost:8080/"
        },
        "id": "URm_PMuw-QY4",
        "outputId": "95b4dc54-c898-4a48-949b-ca1717089071"
      },
      "execution_count": 8,
      "outputs": [
        {
          "output_type": "stream",
          "name": "stdout",
          "text": [
            "Selamat pagi, Zahra!\n"
          ]
        }
      ]
    },
    {
      "cell_type": "code",
      "source": [
        "def greet(name, greeting=\"Hello\"):\n",
        "    print(f\"{greeting}, {name}!\")\n",
        "\n",
        "greet(\"Zahra\")"
      ],
      "metadata": {
        "colab": {
          "base_uri": "https://localhost:8080/"
        },
        "id": "75y7UXfZ_blf",
        "outputId": "8c3a76e4-b1d7-4c79-876a-92e1a293c1e9"
      },
      "execution_count": 9,
      "outputs": [
        {
          "output_type": "stream",
          "name": "stdout",
          "text": [
            "Hello, Zahra!\n"
          ]
        }
      ]
    },
    {
      "cell_type": "code",
      "source": [
        "def print_args(*args):\n",
        "    for arg in args:\n",
        "        print(arg)\n",
        "\n",
        "print_args(\"Hello\", 1, 0.9, True, None, [3, \"Hi\", True], {\"a\": 1, \"b\": 2}, (1, 2, 3), {\"a\", \"b\", \"c\"})"
      ],
      "metadata": {
        "colab": {
          "base_uri": "https://localhost:8080/"
        },
        "id": "SzcjpQykDkNR",
        "outputId": "c92833db-e9ac-4bbb-d22b-1c955e617ab1"
      },
      "execution_count": 12,
      "outputs": [
        {
          "output_type": "stream",
          "name": "stdout",
          "text": [
            "Hello\n",
            "1\n",
            "0.9\n",
            "True\n",
            "None\n",
            "[3, 'Hi', True]\n",
            "{'a': 1, 'b': 2}\n",
            "(1, 2, 3)\n",
            "{'a', 'b', 'c'}\n"
          ]
        }
      ]
    },
    {
      "cell_type": "code",
      "source": [
        "def print_kwargs(**kwargs):\n",
        "    for key, value in kwargs.items():\n",
        "        print(f\"{key}: {value}\")\n",
        "\n",
        "print_kwargs(name=\"Zahra\", email=\"zahra675raihanatul@apps.ipb.ac.id\", student_id=\"J0403231028\")"
      ],
      "metadata": {
        "colab": {
          "base_uri": "https://localhost:8080/"
        },
        "id": "f1H7z2iODsDX",
        "outputId": "431bb32d-59ce-4811-dc59-2778421cb407"
      },
      "execution_count": 14,
      "outputs": [
        {
          "output_type": "stream",
          "name": "stdout",
          "text": [
            "name: Zahra\n",
            "email: zahra675raihanatul@apps.ipb.ac.id\n",
            "student_id: J0403231028\n"
          ]
        }
      ]
    },
    {
      "cell_type": "code",
      "source": [
        "def print_list(numbers):\n",
        "    for num in numbers:\n",
        "        print(num)\n",
        "print_list([1, 2, 3, 4, 5])\n",
        "\n",
        "def print_dict(dictionary):\n",
        "    for key, value in dictionary.items():\n",
        "        print(f\"{key}: {value}\")\n",
        "print_dict({\"name\": \"Zahra\", \"email\": \"zahra675raihanatul@apps.ipb.ac.id\", \"student_id\": \"J0403231028\"})"
      ],
      "metadata": {
        "colab": {
          "base_uri": "https://localhost:8080/"
        },
        "id": "BRGp0HkqEAJG",
        "outputId": "543e82b8-18c0-4c68-eda8-18cbc47b2119"
      },
      "execution_count": 16,
      "outputs": [
        {
          "output_type": "stream",
          "name": "stdout",
          "text": [
            "1\n",
            "2\n",
            "3\n",
            "4\n",
            "5\n",
            "name: Zahra\n",
            "email: zahra675raihanatul@apps.ipb.ac.id\n",
            "student_id: J0403231028\n"
          ]
        }
      ]
    },
    {
      "cell_type": "code",
      "source": [
        "def my_bio(name, *hobbies, school, **social_media):\n",
        "    print(f\"Name: {name}\")\n",
        "    print(f\"School: {school}\")\n",
        "    print(\"Hobbies:\")\n",
        "    for hobby in hobbies:\n",
        "        print(f\"- {hobby}\")\n",
        "    print(\"Social Media:\")\n",
        "    for key, value in social_media.items():\n",
        "        print(f\"- {key}: {value}\")\n",
        "\n",
        "my_bio(\"Zahra\", \"Music\", \"Singing\", school=\"IPB University\", instagram=\"@zahraaarm_\")"
      ],
      "metadata": {
        "colab": {
          "base_uri": "https://localhost:8080/"
        },
        "id": "nltK1DGHEQE9",
        "outputId": "837b014c-4213-4c1b-85b4-13bd9c133d78"
      },
      "execution_count": 18,
      "outputs": [
        {
          "output_type": "stream",
          "name": "stdout",
          "text": [
            "Name: Zahra\n",
            "School: IPB University\n",
            "Hobbies:\n",
            "- Music\n",
            "- Singing\n",
            "Social Media:\n",
            "- instagram: @zahraaarm_\n"
          ]
        }
      ]
    },
    {
      "cell_type": "code",
      "source": [
        "def greet(name):\n",
        "    print(f\"Hello, {name}!\")\n",
        "\n",
        "# Call the function without a return value\n",
        "greet(\"Zahra\")"
      ],
      "metadata": {
        "colab": {
          "base_uri": "https://localhost:8080/"
        },
        "id": "Y4hENDyuFcGj",
        "outputId": "addb6ac5-1127-4746-b17c-1ee3d107d879"
      },
      "execution_count": 19,
      "outputs": [
        {
          "output_type": "stream",
          "name": "stdout",
          "text": [
            "Hello, Zahra!\n"
          ]
        }
      ]
    },
    {
      "cell_type": "code",
      "source": [
        "def say_hello():\n",
        "    print(\"Hello, World!\")\n",
        "\n",
        "greeter = say_hello # Assign function to a variable\n",
        "greeter() # Call the function using the variable\n",
        "\n",
        "def say_hello():\n",
        "    print(\"Hello, Python!\")\n",
        "say_hello() # Call the updated function"
      ],
      "metadata": {
        "colab": {
          "base_uri": "https://localhost:8080/"
        },
        "id": "oyCMEeCyFhdR",
        "outputId": "2dadb53d-dd17-4cbf-9ff8-ecdf0b1fbfd0"
      },
      "execution_count": 20,
      "outputs": [
        {
          "output_type": "stream",
          "name": "stdout",
          "text": [
            "Hello, World!\n",
            "Hello, Python!\n"
          ]
        }
      ]
    },
    {
      "cell_type": "code",
      "source": [
        "def increment(num):\n",
        "    return num + 1\n",
        "\n",
        "add_one = increment\n",
        "\n",
        "result = add_one(2) # Call the function using the variable\n",
        "print(result)"
      ],
      "metadata": {
        "colab": {
          "base_uri": "https://localhost:8080/"
        },
        "id": "Bpv0JrMAFpV6",
        "outputId": "7f71a94f-3c39-4a66-a831-5c1465d50cbb"
      },
      "execution_count": 21,
      "outputs": [
        {
          "output_type": "stream",
          "name": "stdout",
          "text": [
            "3\n"
          ]
        }
      ]
    },
    {
      "cell_type": "code",
      "source": [
        "def my_function():\n",
        "    x = 10 # local variable\n",
        "    print(\"Value inside function:\", x)\n",
        "my_function()\n",
        "\n",
        "def outer_function():\n",
        "    y = 20 # y is in the enclosing scope\n",
        "    def inner_function():\n",
        "        print(y)\n",
        "    inner_function()\n",
        "outer_function()\n",
        "\n",
        "z = 30 # z is in the global scope\n",
        "def another_function():\n",
        "    print(z) # z can be accessed here\n",
        "another_function()\n",
        "\n",
        "print(len(\"Hello, World!\")) # len is a built-in function"
      ],
      "metadata": {
        "colab": {
          "base_uri": "https://localhost:8080/"
        },
        "id": "dDt6TYIxF0j1",
        "outputId": "a7e16f96-cb24-47cf-bd9b-185e0f447b39"
      },
      "execution_count": 22,
      "outputs": [
        {
          "output_type": "stream",
          "name": "stdout",
          "text": [
            "Value inside function: 10\n",
            "20\n",
            "30\n",
            "13\n"
          ]
        }
      ]
    },
    {
      "cell_type": "code",
      "source": [
        "global_var = 10 # a global variable\n",
        "\n",
        "def modify_global():\n",
        "    global global_var # use the global keyword to modify the global variable\n",
        "    global_var = 20\n",
        "\n",
        "modify_global()\n",
        "print(global_var)"
      ],
      "metadata": {
        "colab": {
          "base_uri": "https://localhost:8080/"
        },
        "id": "caZG-d0TF5EH",
        "outputId": "5cd15b55-83b7-45a9-8073-b3ccad22769c"
      },
      "execution_count": 23,
      "outputs": [
        {
          "output_type": "stream",
          "name": "stdout",
          "text": [
            "20\n"
          ]
        }
      ]
    },
    {
      "cell_type": "code",
      "source": [
        "def modify_list(lst):\n",
        "    lst.append(4) # this affects the caller!\n",
        "\n",
        "my_list = [1, 2, 3]\n",
        "modify_list(my_list)\n",
        "print(my_list)\n",
        "\n",
        "def reassign_list(lst):\n",
        "    lst = [4, 5, 6] # this creates a new local variable\n",
        "\n",
        "my_list = [1, 2, 3]\n",
        "reassign_list(my_list)\n",
        "print(my_list)"
      ],
      "metadata": {
        "colab": {
          "base_uri": "https://localhost:8080/"
        },
        "id": "5P_7cz7DF999",
        "outputId": "904a0720-3cfa-46d4-e3af-e99d5d4d79f6"
      },
      "execution_count": 24,
      "outputs": [
        {
          "output_type": "stream",
          "name": "stdout",
          "text": [
            "[1, 2, 3, 4]\n",
            "[1, 2, 3]\n"
          ]
        }
      ]
    },
    {
      "cell_type": "code",
      "source": [
        "def product(*args):\n",
        "    result = 1\n",
        "    for num in args:\n",
        "        result *= num\n",
        "    return result\n",
        "\n",
        "print(product(4, 5))\n",
        "print(product(4, 5, 6))"
      ],
      "metadata": {
        "colab": {
          "base_uri": "https://localhost:8080/"
        },
        "id": "dombvDLKGBwT",
        "outputId": "3d6afade-a24d-493f-c6ab-3ab081961b41"
      },
      "execution_count": 25,
      "outputs": [
        {
          "output_type": "stream",
          "name": "stdout",
          "text": [
            "20\n",
            "120\n"
          ]
        }
      ]
    },
    {
      "cell_type": "code",
      "source": [
        "def factorial(n):\n",
        "    if n <= 1:\n",
        "        return 1\n",
        "    return n * factorial(n - 1)\n",
        "\n",
        "result = factorial(5)\n",
        "print(result)"
      ],
      "metadata": {
        "colab": {
          "base_uri": "https://localhost:8080/"
        },
        "id": "z2vzwjW0GJAg",
        "outputId": "d2aafd48-602e-4839-9220-65710a9e6613"
      },
      "execution_count": 26,
      "outputs": [
        {
          "output_type": "stream",
          "name": "stdout",
          "text": [
            "120\n"
          ]
        }
      ]
    }
  ]
}