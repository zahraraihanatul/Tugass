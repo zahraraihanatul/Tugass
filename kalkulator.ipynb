{
  "nbformat": 4,
  "nbformat_minor": 0,
  "metadata": {
    "colab": {
      "provenance": [],
      "authorship_tag": "ABX9TyOSBpvEyX3kZ6496fZHAil0",
      "include_colab_link": true
    },
    "kernelspec": {
      "name": "python3",
      "display_name": "Python 3"
    },
    "language_info": {
      "name": "python"
    }
  },
  "cells": [
    {
      "cell_type": "markdown",
      "metadata": {
        "id": "view-in-github",
        "colab_type": "text"
      },
      "source": [
        "<a href=\"https://colab.research.google.com/github/zahraraihanatul/Tugass/blob/main/kalkulator.ipynb\" target=\"_parent\"><img src=\"https://colab.research.google.com/assets/colab-badge.svg\" alt=\"Open In Colab\"/></a>"
      ]
    },
    {
      "cell_type": "code",
      "execution_count": 1,
      "metadata": {
        "colab": {
          "base_uri": "https://localhost:8080/"
        },
        "id": "vpSo9ZGnNBZP",
        "outputId": "356d0fc1-d221-43a4-f913-3a3031fa377d"
      },
      "outputs": [
        {
          "output_type": "stream",
          "name": "stdout",
          "text": [
            "100 degrees Celsius is equal to 37.77777777777778 degrees Fahrenheit\n",
            "32 degrees Fahrenheit is equal to 89.6 degrees Celsius\n"
          ]
        }
      ],
      "source": [
        "def convert_temperature(temperature, scale):\n",
        "    \"\"\"\n",
        "    Convert a temperature from one scale to another.\n",
        "\n",
        "    Args:\n",
        "        temperature (float): The temperature value to be converted.\n",
        "        scale (str): The scale of the input temperature ('C' for Celsius or 'F' for Fahrenheit).\n",
        "\n",
        "    Returns:\n",
        "        float: The converted temperature value.\n",
        "\n",
        "    Raises:\n",
        "        ValueError: If an unsupported scale is provided.\n",
        "\n",
        "    Examples:\n",
        "        >>> convert_temperature(32, 'F')\n",
        "        0.0\n",
        "        >>> convert_temperature(100, 'C')\n",
        "        212.0\n",
        "    \"\"\"\n",
        "    if scale == 'C':\n",
        "        converted_temperature = (temperature - 32) * 5/9\n",
        "    elif scale == 'F':\n",
        "        converted_temperature = (temperature * 9/5) + 32\n",
        "    else:\n",
        "        raise ValueError(\"Unsupported scale. Use 'C' for Celsius or 'F' for Fahrenheit.\")\n",
        "\n",
        "    return converted_temperature\n",
        "\n",
        "# Example usages:\n",
        "celsius_temperature = convert_temperature(100, 'C')\n",
        "print(f\"100 degrees Celsius is equal to {celsius_temperature} degrees Fahrenheit\")\n",
        "\n",
        "fahrenheit_temperature = convert_temperature(32, 'F')\n",
        "print(f\"32 degrees Fahrenheit is equal to {fahrenheit_temperature} degrees Celsius\")\n"
      ]
    },
    {
      "cell_type": "code",
      "source": [],
      "metadata": {
        "id": "GcFPxUVONMUY"
      },
      "execution_count": null,
      "outputs": []
    },
    {
      "cell_type": "code",
      "source": [
        "def perform_operation(operator, *args):\n",
        "    \"\"\"\n",
        "    Perform arithmetic operations on a variable number of arguments.\n",
        "\n",
        "    Args:\n",
        "        operator (str): The operator for the arithmetic operation ('+', '-', '*', or '/').\n",
        "        *args (float): Variable number of arguments for the operation.\n",
        "\n",
        "    Returns:\n",
        "        float: The result of the arithmetic operation.\n",
        "\n",
        "    Raises:\n",
        "        ValueError: If an unsupported operator is provided or if division by zero occurs.\n",
        "\n",
        "    Examples:\n",
        "        >>> result = perform_operation('+', 2, 3, 4)\n",
        "        >>> print(result)\n",
        "        9.0\n",
        "\n",
        "        >>> result = perform_operation('-', 10, 5, 2)\n",
        "        >>> print(result)\n",
        "        3.0\n",
        "\n",
        "        >>> result = perform_operation('*', 2, 3, 4)\n",
        "        >>> print(result)\n",
        "        24.0\n",
        "\n",
        "        >>> result = perform_operation('/', 10, 2)\n",
        "        >>> print(result)\n",
        "        5.0\n",
        "    \"\"\"\n",
        "    if operator not in ('+', '-', '*', '/'):\n",
        "        raise ValueError(\"Unsupported operator. Use '+', '-', '*', or '/'.\")\n",
        "\n",
        "    if operator == '+':\n",
        "        result = sum(args)\n",
        "    elif operator == '-':\n",
        "        result = args[0] - sum(args[1:])\n",
        "    elif operator == '*':\n",
        "        result = 1\n",
        "        for arg in args:\n",
        "            result *= arg\n",
        "    elif operator == '/':\n",
        "        result = args[0]\n",
        "        for arg in args[1:]:\n",
        "            if arg == 0:\n",
        "                raise ValueError(\"Division by zero is not allowed.\")\n",
        "            result /= arg\n",
        "\n",
        "    return result\n",
        "\n",
        "# Example usages:\n",
        "addition_result = perform_operation('+', 2, 3, 4)\n",
        "print(f\"2 + 3 + 4 = {addition_result}\")\n",
        "\n",
        "subtraction_result = perform_operation('-', 10, 5, 2)\n",
        "print(f\"10 - 5 - 2 = {subtraction_result}\")\n",
        "\n",
        "multiplication_result = perform_operation('*', 2, 3, 4)\n",
        "print(f\"2 * 3 * 4 = {multiplication_result}\")\n",
        "\n",
        "division_result = perform_operation('/', 10, 2)\n",
        "print(f\"10 / 2 = {division_result}\")\n"
      ],
      "metadata": {
        "colab": {
          "base_uri": "https://localhost:8080/"
        },
        "id": "m2FM0oclNMVq",
        "outputId": "de766b21-5a04-43c1-8c45-7733ab1c6128"
      },
      "execution_count": 2,
      "outputs": [
        {
          "output_type": "stream",
          "name": "stdout",
          "text": [
            "2 + 3 + 4 = 9\n",
            "10 - 5 - 2 = 3\n",
            "2 * 3 * 4 = 24\n",
            "10 / 2 = 5.0\n"
          ]
        }
      ]
    }
  ]
}